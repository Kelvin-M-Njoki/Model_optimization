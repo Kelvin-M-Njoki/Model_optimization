{
 "cells": [
  {
   "cell_type": "markdown",
   "id": "f662d169",
   "metadata": {},
   "source": [
    "# Classification - hyperparameter tuning\n"
   ]
  },
  {
   "cell_type": "markdown",
   "id": "d5e543f7",
   "metadata": {},
   "source": [
    "## Imports\n",
    "\n"
   ]
  },
  {
   "cell_type": "code",
   "execution_count": 1,
   "id": "0bf461fb",
   "metadata": {},
   "outputs": [],
   "source": [
    "import numpy as np\n",
    "import pandas as pd\n",
    "from matplotlib import pyplot as plt\n",
    "import seaborn as sns\n",
    "\n",
    "from sklearn import preprocessing\n",
    "from sklearn.model_selection import train_test_split\n",
    "from sklearn.metrics import accuracy_score\n",
    "from sklearn.metrics import confusion_matrix\n",
    "\n",
    "from sklearn.model_selection import GridSearchCV\n",
    "from sklearn.svm import SVC"
   ]
  },
  {
   "cell_type": "markdown",
   "id": "59fa0bf2",
   "metadata": {},
   "source": [
    "### Reading in the data\n",
    "\n",
    "\n"
   ]
  },
  {
   "cell_type": "code",
   "execution_count": 143,
   "id": "d80ad1b3",
   "metadata": {},
   "outputs": [
    {
     "data": {
      "text/html": [
       "<div>\n",
       "<style scoped>\n",
       "    .dataframe tbody tr th:only-of-type {\n",
       "        vertical-align: middle;\n",
       "    }\n",
       "\n",
       "    .dataframe tbody tr th {\n",
       "        vertical-align: top;\n",
       "    }\n",
       "\n",
       "    .dataframe thead th {\n",
       "        text-align: right;\n",
       "    }\n",
       "</style>\n",
       "<table border=\"1\" class=\"dataframe\">\n",
       "  <thead>\n",
       "    <tr style=\"text-align: right;\">\n",
       "      <th></th>\n",
       "      <th>type</th>\n",
       "      <th>fixed acidity</th>\n",
       "      <th>volatile acidity</th>\n",
       "      <th>citric acid</th>\n",
       "      <th>residual sugar</th>\n",
       "      <th>chlorides</th>\n",
       "      <th>free sulfur dioxide</th>\n",
       "      <th>total sulfur dioxide</th>\n",
       "      <th>density</th>\n",
       "      <th>pH</th>\n",
       "      <th>sulphates</th>\n",
       "      <th>alcohol</th>\n",
       "      <th>quality</th>\n",
       "    </tr>\n",
       "  </thead>\n",
       "  <tbody>\n",
       "    <tr>\n",
       "      <th>0</th>\n",
       "      <td>0</td>\n",
       "      <td>7.0</td>\n",
       "      <td>0.27</td>\n",
       "      <td>0.36</td>\n",
       "      <td>20.7</td>\n",
       "      <td>0.045</td>\n",
       "      <td>45.0</td>\n",
       "      <td>170.0</td>\n",
       "      <td>1.0010</td>\n",
       "      <td>3.00</td>\n",
       "      <td>0.45</td>\n",
       "      <td>8.8</td>\n",
       "      <td>6</td>\n",
       "    </tr>\n",
       "    <tr>\n",
       "      <th>1</th>\n",
       "      <td>0</td>\n",
       "      <td>6.3</td>\n",
       "      <td>0.30</td>\n",
       "      <td>0.34</td>\n",
       "      <td>1.6</td>\n",
       "      <td>0.049</td>\n",
       "      <td>14.0</td>\n",
       "      <td>132.0</td>\n",
       "      <td>0.9940</td>\n",
       "      <td>3.30</td>\n",
       "      <td>0.49</td>\n",
       "      <td>9.5</td>\n",
       "      <td>6</td>\n",
       "    </tr>\n",
       "    <tr>\n",
       "      <th>2</th>\n",
       "      <td>0</td>\n",
       "      <td>8.1</td>\n",
       "      <td>0.28</td>\n",
       "      <td>0.40</td>\n",
       "      <td>6.9</td>\n",
       "      <td>0.050</td>\n",
       "      <td>30.0</td>\n",
       "      <td>97.0</td>\n",
       "      <td>0.9951</td>\n",
       "      <td>3.26</td>\n",
       "      <td>0.44</td>\n",
       "      <td>10.1</td>\n",
       "      <td>6</td>\n",
       "    </tr>\n",
       "    <tr>\n",
       "      <th>3</th>\n",
       "      <td>0</td>\n",
       "      <td>7.2</td>\n",
       "      <td>0.23</td>\n",
       "      <td>0.32</td>\n",
       "      <td>8.5</td>\n",
       "      <td>0.058</td>\n",
       "      <td>47.0</td>\n",
       "      <td>186.0</td>\n",
       "      <td>0.9956</td>\n",
       "      <td>3.19</td>\n",
       "      <td>0.40</td>\n",
       "      <td>9.9</td>\n",
       "      <td>6</td>\n",
       "    </tr>\n",
       "    <tr>\n",
       "      <th>4</th>\n",
       "      <td>0</td>\n",
       "      <td>7.2</td>\n",
       "      <td>0.23</td>\n",
       "      <td>0.32</td>\n",
       "      <td>8.5</td>\n",
       "      <td>0.058</td>\n",
       "      <td>47.0</td>\n",
       "      <td>186.0</td>\n",
       "      <td>0.9956</td>\n",
       "      <td>3.19</td>\n",
       "      <td>0.40</td>\n",
       "      <td>9.9</td>\n",
       "      <td>6</td>\n",
       "    </tr>\n",
       "  </tbody>\n",
       "</table>\n",
       "</div>"
      ],
      "text/plain": [
       "   type  fixed acidity  volatile acidity  citric acid  residual sugar  \\\n",
       "0     0            7.0              0.27         0.36            20.7   \n",
       "1     0            6.3              0.30         0.34             1.6   \n",
       "2     0            8.1              0.28         0.40             6.9   \n",
       "3     0            7.2              0.23         0.32             8.5   \n",
       "4     0            7.2              0.23         0.32             8.5   \n",
       "\n",
       "   chlorides  free sulfur dioxide  total sulfur dioxide  density    pH  \\\n",
       "0      0.045                 45.0                 170.0   1.0010  3.00   \n",
       "1      0.049                 14.0                 132.0   0.9940  3.30   \n",
       "2      0.050                 30.0                  97.0   0.9951  3.26   \n",
       "3      0.058                 47.0                 186.0   0.9956  3.19   \n",
       "4      0.058                 47.0                 186.0   0.9956  3.19   \n",
       "\n",
       "   sulphates  alcohol  quality  \n",
       "0       0.45      8.8        6  \n",
       "1       0.49      9.5        6  \n",
       "2       0.44     10.1        6  \n",
       "3       0.40      9.9        6  \n",
       "4       0.40      9.9        6  "
      ]
     },
     "execution_count": 143,
     "metadata": {},
     "output_type": "execute_result"
    }
   ],
   "source": [
    "df = pd.read_csv('https://raw.githubusercontent.com/Explore-AI/Public-Data/master/Data/classification_sprint/winequality.csv')\n",
    "df.head()"
   ]
  },
  {
   "cell_type": "markdown",
   "id": "e2c4bfe2",
   "metadata": {},
   "source": [
    "##  Data preprocessing\n",
    "\n"
   ]
  },
  {
   "cell_type": "code",
   "execution_count": 144,
   "id": "93ab4297",
   "metadata": {},
   "outputs": [],
   "source": [
    "### START FUNCTION\n",
    "from sklearn.preprocessing import StandardScaler\n",
    "\n",
    "def data_preprocess(df):\n",
    "    \"\"\"\n",
    "    Function to preprocess the data for modeling.\n",
    "\n",
    "    Parameters:\n",
    "    df (DataFrame): The input DataFrame containing the dataset.\n",
    "\n",
    "    Returns:\n",
    "    tuple: A tuple containing train and test data in the format (X_train, y_train), (X_test, y_test).\n",
    "    \"\"\"\n",
    "    # Make a copy of the dataframe to avoid modifying the original data\n",
    "    df1 = df.copy()\n",
    "    \n",
    "    # Convert 'quality' column to binary labels (0 for quality <= 4, 1 for quality >= 5)\n",
    "    df1.loc[df1['quality'] <= 4, 'quality'] = 0\n",
    "    df1.loc[df1['quality'] >= 5, 'quality'] = 1\n",
    "    \n",
    "    # Fill missing values with 0\n",
    "    df1 = df1.fillna(0)\n",
    "\n",
    "    # Separate features and target variable\n",
    "    X = df1.drop('quality', axis=1)\n",
    "    y = df1['quality']\n",
    "    \n",
    "    # Standardize features\n",
    "    scaler = StandardScaler()\n",
    "    X_scaled = scaler.fit_transform(X)\n",
    "\n",
    "    # Split the data into train and test sets\n",
    "    X_train, X_test, y_train, y_test = train_test_split(X_scaled, y, test_size=0.25, random_state=42)\n",
    "    \n",
    "    # Convert target variables to arrays\n",
    "    y_train = y_train.values\n",
    "    y_test = y_test.values\n",
    "\n",
    "    return (X_train, y_train), (X_test, y_test)\n",
    "\n",
    "### END FUNCTION"
   ]
  },
  {
   "cell_type": "code",
   "execution_count": 145,
   "id": "7de1e047",
   "metadata": {},
   "outputs": [],
   "source": [
    "(X_train, y_train), (X_test, y_test) = data_preprocess(df)"
   ]
  },
  {
   "cell_type": "code",
   "execution_count": 146,
   "id": "9294e3c7-0676-42c7-9400-b1ce6bc2df42",
   "metadata": {},
   "outputs": [
    {
     "name": "stdout",
     "output_type": "stream",
     "text": [
      "[[-0.57136659  0.07127869 -0.48054096  1.17914161 -0.09303318 -0.79974133\n",
      "   0.0830898  -0.15472329 -0.36573452  0.13010447  0.06101473  0.25842195]\n",
      " [-0.57136659  1.50396711 -0.72301571  0.56008035 -0.63948302 -0.05776881\n",
      "  -0.70572997  0.62379657  0.16787589 -0.86828773 -0.47467813 -0.99931317]]\n",
      "[1 0]\n",
      "[[-0.57136659 -0.15493527 -0.54115965  0.90400327 -0.66050032 -0.31460545\n",
      "   0.53384396  0.03990667 -1.35291379 -0.26925241 -0.34075491  1.18076103]\n",
      " [-0.57136659  0.29749266 -1.20796522  2.8987562  -0.80762143 -0.45729248\n",
      "  -0.19863155 -0.22549783 -1.03274754 -0.7185289  -0.87644778  0.25842195]]\n",
      "[1 1]\n"
     ]
    }
   ],
   "source": [
    "print(X_train[:2])\n",
    "print(y_train[:2])\n",
    "print(X_test[:2])\n",
    "print(y_test[:2])"
   ]
  },
  {
   "cell_type": "markdown",
   "id": "b52dee68",
   "metadata": {},
   "source": [
    "##  Model training\n"
   ]
  },
  {
   "cell_type": "code",
   "execution_count": 147,
   "id": "f1235b40",
   "metadata": {},
   "outputs": [],
   "source": [
    "### START FUNCTION\n",
    "\n",
    "def train_SVC_model(X_train, y_train):\n",
    "    \"\"\"\n",
    "    Function to train a Support Vector Classifier (SVC) model.\n",
    "\n",
    "    Parameters:\n",
    "    X_train (array-like): Training features.\n",
    "    y_train (array-like): Training target variable.\n",
    "\n",
    "    Returns:\n",
    "    SVC: Trained SVC model.\n",
    "    \"\"\"\n",
    "    # Initialize SVC model with specified parameters\n",
    "    model = SVC(random_state=40, gamma='auto')\n",
    "    \n",
    "    # Fit the model to the training data\n",
    "    model.fit(X_train, y_train)\n",
    "    \n",
    "    return model\n",
    "\n",
    "\n",
    "### END FUNCTION"
   ]
  },
  {
   "cell_type": "code",
   "execution_count": 148,
   "id": "9d8427bc",
   "metadata": {},
   "outputs": [
    {
     "data": {
      "text/plain": [
       "array([0, 1], dtype=int64)"
      ]
     },
     "execution_count": 148,
     "metadata": {},
     "output_type": "execute_result"
    }
   ],
   "source": [
    "svc = train_SVC_model(X_train,y_train)\n",
    "svc.classes_"
   ]
  },
  {
   "cell_type": "code",
   "execution_count": 149,
   "id": "ecd1016e",
   "metadata": {},
   "outputs": [],
   "source": [
    "### START FUNCTION\n",
    "\n",
    "def custom_scoring_function(y_true, y_pred):\n",
    "    \"\"\"\n",
    "    Custom scoring function to calculate log loss.\n",
    "\n",
    "    Parameters:\n",
    "    y_true (array-like): True labels.\n",
    "    y_pred (array-like): Predicted probabilities.\n",
    "\n",
    "    Returns:\n",
    "    float: Log loss value rounded to 7 decimal places.\n",
    "    \"\"\"\n",
    "    # Set a small value to prevent log(0) error\n",
    "    epsilon = 1e-15\n",
    "    \n",
    "    # Clip predicted probabilities to avoid extreme values\n",
    "    y_pred = np.maximum(epsilon, y_pred)\n",
    "    y_pred = np.minimum(1 - epsilon, y_pred)\n",
    "    \n",
    "    # Calculate log loss\n",
    "    loss = - np.mean(y_true * np.log(y_pred) + (1 - y_true) * np.log(1 - y_pred))\n",
    "    \n",
    "    return round(loss, 7)\n",
    "\n",
    "\n",
    "### END FUNCTION"
   ]
  },
  {
   "cell_type": "code",
   "execution_count": 150,
   "id": "7c1ca05f",
   "metadata": {},
   "outputs": [
    {
     "name": "stdout",
     "output_type": "stream",
     "text": [
      "Log Loss value:  1.2540518\n",
      "Accuracy:  0.9637\n"
     ]
    }
   ],
   "source": [
    "y_pred = svc.predict(X_test)\n",
    "print('Log Loss value: ', custom_scoring_function(y_test, y_pred))\n",
    "print('Accuracy: ',round(accuracy_score(y_test,y_pred),4))"
   ]
  },
  {
   "cell_type": "markdown",
   "id": "c302d72a",
   "metadata": {},
   "source": [
    "## Hyperparameter optimisation\n",
    "\n",
    "###  Getting model parameters\n"
   ]
  },
  {
   "cell_type": "code",
   "execution_count": 151,
   "id": "97e6db43",
   "metadata": {},
   "outputs": [],
   "source": [
    "### START FUNCTION\n",
    "def get_model_hyperparams(model):\n",
    "    \"\"\"\n",
    "    Function to retrieve hyperparameters of a given model.\n",
    "\n",
    "    Parameters:\n",
    "    model (estimator): A scikit-learn model object.\n",
    "\n",
    "    Returns:\n",
    "    list: List of hyperparameters for the given model.\n",
    "    \"\"\"\n",
    "    # Retrieve hyperparameters of the model\n",
    "    hyperparams = model.get_params().keys()\n",
    "    \n",
    "    # Convert to a list and return\n",
    "    return list(hyperparams)\n",
    "\n",
    "\n",
    "### END FUNCTION"
   ]
  },
  {
   "cell_type": "code",
   "execution_count": 152,
   "id": "61609a14",
   "metadata": {},
   "outputs": [
    {
     "data": {
      "text/plain": [
       "['C',\n",
       " 'break_ties',\n",
       " 'cache_size',\n",
       " 'class_weight',\n",
       " 'coef0',\n",
       " 'decision_function_shape',\n",
       " 'degree',\n",
       " 'gamma',\n",
       " 'kernel',\n",
       " 'max_iter',\n",
       " 'probability',\n",
       " 'random_state',\n",
       " 'shrinking',\n",
       " 'tol',\n",
       " 'verbose']"
      ]
     },
     "execution_count": 152,
     "metadata": {},
     "output_type": "execute_result"
    }
   ],
   "source": [
    "get_model_hyperparams(svc)"
   ]
  },
  {
   "cell_type": "markdown",
   "id": "55616b10",
   "metadata": {},
   "source": [
    "###  Hyperparameter search\n"
   ]
  },
  {
   "cell_type": "code",
   "execution_count": 153,
   "id": "624df1be",
   "metadata": {},
   "outputs": [],
   "source": [
    "### START FUNCTION\n",
    "def tune_SVC_model(X_train, y_train):\n",
    "    \"\"\"\n",
    "    Tune the parameters of a Support Vector Classifier (SVC) using grid search.\n",
    "    \n",
    "    Parameters:\n",
    "        X_train (array-like): Training data features.\n",
    "        y_train (array-like): Training data labels.\n",
    "        \n",
    "    Returns:\n",
    "        GridSearchCV: A GridSearchCV object containing the tuned SVC model.\n",
    "    \"\"\"\n",
    "    # Define the grid of hyperparameters to search over\n",
    "    param_grid = {'C': [0.1, 1, 10], 'gamma': [0.01, 0.1, 1]}\n",
    "    \n",
    "    # Define a custom scorer for GridSearchCV\n",
    "    custom_scorer = make_scorer(custom_scoring_function, greater_is_better=False)\n",
    "    \n",
    "    # Perform grid search with cross-validation\n",
    "    grid_search = GridSearchCV(SVC(), param_grid, cv=5, scoring=custom_scorer)\n",
    "    grid_search.fit(X_train, y_train)\n",
    "\n",
    "    return grid_search\n",
    "    \n",
    "# Tune the SVC model using the provided training data\n",
    "svc_tuned = tune_SVC_model(X_train, y_train)\n",
    "\n",
    "### END FUNCTION"
   ]
  },
  {
   "cell_type": "code",
   "execution_count": 154,
   "id": "7b70eadc",
   "metadata": {},
   "outputs": [
    {
     "name": "stdout",
     "output_type": "stream",
     "text": [
      "Log Loss value:  1.2540518\n",
      "Accuracy:  0.9637\n"
     ]
    }
   ],
   "source": [
    "y_pred = svc.predict(X_test)\n",
    "print('Log Loss value: ',custom_scoring_function(y_test,y_pred))\n",
    "print('Accuracy: ',round(accuracy_score(y_test,y_pred),4))"
   ]
  },
  {
   "cell_type": "markdown",
   "id": "be137501",
   "metadata": {},
   "source": [
    "### Optimal model parameters\n"
   ]
  },
  {
   "cell_type": "code",
   "execution_count": 155,
   "id": "2b83027d-afbb-4eac-a8e0-4899928e27e4",
   "metadata": {},
   "outputs": [],
   "source": [
    "### START FUNCTION\n",
    "def get_best_params(model):\n",
    "    \"\"\"\n",
    "    Function to extract the best hyperparameters from a GridSearchCV object.\n",
    "\n",
    "    Parameters:\n",
    "    model (GridSearchCV): A GridSearchCV object containing the results of hyperparameter tuning.\n",
    "\n",
    "    Returns:\n",
    "    dict: A dictionary containing the optimal hyperparameters found by the grid search.\n",
    "    \"\"\"\n",
    "    # Retrieve the best estimator from the grid search\n",
    "    best_model = model.best_estimator_\n",
    "    \n",
    "    # Get the parameters of the best estimator\n",
    "    best_params = best_model.get_params()\n",
    "    \n",
    "    return best_params\n",
    "\n",
    "### END FUNCTION"
   ]
  },
  {
   "cell_type": "code",
   "execution_count": 156,
   "id": "701e0d61",
   "metadata": {},
   "outputs": [
    {
     "data": {
      "text/plain": [
       "{'C': 1,\n",
       " 'break_ties': False,\n",
       " 'cache_size': 200,\n",
       " 'class_weight': None,\n",
       " 'coef0': 0.0,\n",
       " 'decision_function_shape': 'ovr',\n",
       " 'degree': 3,\n",
       " 'gamma': 1,\n",
       " 'kernel': 'rbf',\n",
       " 'max_iter': -1,\n",
       " 'probability': False,\n",
       " 'random_state': None,\n",
       " 'shrinking': True,\n",
       " 'tol': 0.001,\n",
       " 'verbose': False}"
      ]
     },
     "execution_count": 156,
     "metadata": {},
     "output_type": "execute_result"
    }
   ],
   "source": [
    "get_best_params(svc_tuned)"
   ]
  }
 ],
 "metadata": {
  "kernelspec": {
   "display_name": "Python 3 (ipykernel)",
   "language": "python",
   "name": "python3"
  },
  "language_info": {
   "codemirror_mode": {
    "name": "ipython",
    "version": 3
   },
   "file_extension": ".py",
   "mimetype": "text/x-python",
   "name": "python",
   "nbconvert_exporter": "python",
   "pygments_lexer": "ipython3",
   "version": "3.11.7"
  }
 },
 "nbformat": 4,
 "nbformat_minor": 5
}
